{
 "cells": [
  {
   "cell_type": "code",
   "execution_count": 9,
   "id": "2eaa9344",
   "metadata": {},
   "outputs": [
    {
     "name": "stderr",
     "output_type": "stream",
     "text": [
      "[nltk_data] Downloading package stopwords to\n",
      "[nltk_data]     C:\\Users\\dsta0\\AppData\\Roaming\\nltk_data...\n",
      "[nltk_data]   Package stopwords is already up-to-date!\n"
     ]
    }
   ],
   "source": [
    "import pandas as pd\n",
    "#pd.set_option('display.max_colwidth', None)\n",
    "import numpy as np\n",
    "import matplotlib.pyplot as plt\n",
    "import seaborn as sns\n",
    "\n",
    "from sklearn.model_selection import train_test_split\n",
    "from sklearn.feature_extraction.text import TfidfVectorizer\n",
    "from sklearn.naive_bayes import MultinomialNB\n",
    "from sklearn.metrics import accuracy_score, precision_score, recall_score, f1_score\n",
    "from sklearn.metrics import roc_auc_score, f1_score, confusion_matrix, classification_report\n",
    "\n",
    "import nltk\n",
    "nltk.download('stopwords')\n",
    "from nltk.corpus import stopwords\n",
    "from nltk.tokenize import word_tokenize\n",
    "from nltk.stem import PorterStemmer, SnowballStemmer\n",
    "\n",
    "import re\n",
    "#from numpy import triu\n",
    "#from scipy.linalg import triu\n",
    "from gensim.models import Word2Vec\n",
    "import openai\n",
    "from sklearn.svm import SVC\n",
    "from secret_key import openai_key\n",
    "from sentence_transformers import SentenceTransformer"
   ]
  },
  {
   "cell_type": "code",
   "execution_count": 11,
   "id": "6edf71e5",
   "metadata": {},
   "outputs": [],
   "source": [
    "df_tweets = pd.read_csv('training.1600000.processed.noemoticon.csv', \n",
    "                    encoding='latin-1',  names=['target','ids','date','flag','user','text'])"
   ]
  },
  {
   "cell_type": "code",
   "execution_count": 12,
   "id": "eb5eb114",
   "metadata": {},
   "outputs": [
    {
     "data": {
      "application/vnd.microsoft.datawrangler.viewer.v0+json": {
       "columns": [
        {
         "name": "index",
         "rawType": "int64",
         "type": "integer"
        },
        {
         "name": "target",
         "rawType": "int64",
         "type": "integer"
        },
        {
         "name": "ids",
         "rawType": "int64",
         "type": "integer"
        },
        {
         "name": "date",
         "rawType": "object",
         "type": "string"
        },
        {
         "name": "flag",
         "rawType": "object",
         "type": "string"
        },
        {
         "name": "user",
         "rawType": "object",
         "type": "string"
        },
        {
         "name": "text",
         "rawType": "object",
         "type": "string"
        }
       ],
       "conversionMethod": "pd.DataFrame",
       "ref": "51261941-a125-4ea3-ad88-21a1388aeeab",
       "rows": [
        [
         "301719",
         "0",
         "1998757599",
         "Mon Jun 01 19:04:34 PDT 2009",
         "NO_QUERY",
         "LavishAve",
         "Just Got Home Bad Day Today "
        ],
        [
         "1003073",
         "4",
         "1880277171",
         "Fri May 22 00:40:52 PDT 2009",
         "NO_QUERY",
         "dabe83",
         "@djshelton @mikeyballardo goodnight silly boys. "
        ],
        [
         "1457522",
         "4",
         "2063589095",
         "Sun Jun 07 03:16:33 PDT 2009",
         "NO_QUERY",
         "MartinGBEdwards",
         "@HoptonHouseBnB  #elevensestime Oh yes, very acceptable, I hope thats a locally produced sausage! "
        ],
        [
         "1418599",
         "4",
         "2057818142",
         "Sat Jun 06 13:43:08 PDT 2009",
         "NO_QUERY",
         "laurabethhk",
         "around burlington until the 17th  im with out a cell for a while tho :-/ text some one who u think i might be with maybe ill respond"
        ],
        [
         "301608",
         "0",
         "1998726943",
         "Mon Jun 01 19:01:35 PDT 2009",
         "NO_QUERY",
         "babygurltl",
         "Ok so, the paramedics just came to my house, our friend was having trouble breathing, but hes all good now, and i cannot stand needles... "
        ],
        [
         "736866",
         "0",
         "2265104342",
         "Sun Jun 21 05:48:00 PDT 2009",
         "NO_QUERY",
         "dieguitoLAMB",
         "thereÂ´s exactly a 500 gap from following 869 to followers 362.. "
        ],
        [
         "889712",
         "4",
         "1687797936",
         "Sun May 03 09:36:52 PDT 2009",
         "NO_QUERY",
         "LStathis",
         "@BrittanyRS 4days till margarita madness at the poooooooool "
        ],
        [
         "507354",
         "0",
         "2188879563",
         "Mon Jun 15 22:45:26 PDT 2009",
         "NO_QUERY",
         "_kryshelle",
         "my gastric is hurting like mad even though i just had lunch. "
        ],
        [
         "370147",
         "0",
         "2050063366",
         "Fri Jun 05 18:00:07 PDT 2009",
         "NO_QUERY",
         "cwiiis",
         "oh man, my PS3 crashed while I was doing particularly well in Trash Panic "
        ],
        [
         "308765",
         "0",
         "2000762134",
         "Mon Jun 01 22:53:56 PDT 2009",
         "NO_QUERY",
         "BeccaB67",
         "@DougEWhite Awwwwwww  I'm sorry.  Now I feel bad.  "
        ]
       ],
       "shape": {
        "columns": 6,
        "rows": 10
       }
      },
      "text/html": [
       "<div>\n",
       "<style scoped>\n",
       "    .dataframe tbody tr th:only-of-type {\n",
       "        vertical-align: middle;\n",
       "    }\n",
       "\n",
       "    .dataframe tbody tr th {\n",
       "        vertical-align: top;\n",
       "    }\n",
       "\n",
       "    .dataframe thead th {\n",
       "        text-align: right;\n",
       "    }\n",
       "</style>\n",
       "<table border=\"1\" class=\"dataframe\">\n",
       "  <thead>\n",
       "    <tr style=\"text-align: right;\">\n",
       "      <th></th>\n",
       "      <th>target</th>\n",
       "      <th>ids</th>\n",
       "      <th>date</th>\n",
       "      <th>flag</th>\n",
       "      <th>user</th>\n",
       "      <th>text</th>\n",
       "    </tr>\n",
       "  </thead>\n",
       "  <tbody>\n",
       "    <tr>\n",
       "      <th>301719</th>\n",
       "      <td>0</td>\n",
       "      <td>1998757599</td>\n",
       "      <td>Mon Jun 01 19:04:34 PDT 2009</td>\n",
       "      <td>NO_QUERY</td>\n",
       "      <td>LavishAve</td>\n",
       "      <td>Just Got Home Bad Day Today</td>\n",
       "    </tr>\n",
       "    <tr>\n",
       "      <th>1003073</th>\n",
       "      <td>4</td>\n",
       "      <td>1880277171</td>\n",
       "      <td>Fri May 22 00:40:52 PDT 2009</td>\n",
       "      <td>NO_QUERY</td>\n",
       "      <td>dabe83</td>\n",
       "      <td>@djshelton @mikeyballardo goodnight silly boys.</td>\n",
       "    </tr>\n",
       "    <tr>\n",
       "      <th>1457522</th>\n",
       "      <td>4</td>\n",
       "      <td>2063589095</td>\n",
       "      <td>Sun Jun 07 03:16:33 PDT 2009</td>\n",
       "      <td>NO_QUERY</td>\n",
       "      <td>MartinGBEdwards</td>\n",
       "      <td>@HoptonHouseBnB  #elevensestime Oh yes, very a...</td>\n",
       "    </tr>\n",
       "    <tr>\n",
       "      <th>1418599</th>\n",
       "      <td>4</td>\n",
       "      <td>2057818142</td>\n",
       "      <td>Sat Jun 06 13:43:08 PDT 2009</td>\n",
       "      <td>NO_QUERY</td>\n",
       "      <td>laurabethhk</td>\n",
       "      <td>around burlington until the 17th  im with out ...</td>\n",
       "    </tr>\n",
       "    <tr>\n",
       "      <th>301608</th>\n",
       "      <td>0</td>\n",
       "      <td>1998726943</td>\n",
       "      <td>Mon Jun 01 19:01:35 PDT 2009</td>\n",
       "      <td>NO_QUERY</td>\n",
       "      <td>babygurltl</td>\n",
       "      <td>Ok so, the paramedics just came to my house, o...</td>\n",
       "    </tr>\n",
       "    <tr>\n",
       "      <th>736866</th>\n",
       "      <td>0</td>\n",
       "      <td>2265104342</td>\n",
       "      <td>Sun Jun 21 05:48:00 PDT 2009</td>\n",
       "      <td>NO_QUERY</td>\n",
       "      <td>dieguitoLAMB</td>\n",
       "      <td>thereÂ´s exactly a 500 gap from following 869 ...</td>\n",
       "    </tr>\n",
       "    <tr>\n",
       "      <th>889712</th>\n",
       "      <td>4</td>\n",
       "      <td>1687797936</td>\n",
       "      <td>Sun May 03 09:36:52 PDT 2009</td>\n",
       "      <td>NO_QUERY</td>\n",
       "      <td>LStathis</td>\n",
       "      <td>@BrittanyRS 4days till margarita madness at th...</td>\n",
       "    </tr>\n",
       "    <tr>\n",
       "      <th>507354</th>\n",
       "      <td>0</td>\n",
       "      <td>2188879563</td>\n",
       "      <td>Mon Jun 15 22:45:26 PDT 2009</td>\n",
       "      <td>NO_QUERY</td>\n",
       "      <td>_kryshelle</td>\n",
       "      <td>my gastric is hurting like mad even though i j...</td>\n",
       "    </tr>\n",
       "    <tr>\n",
       "      <th>370147</th>\n",
       "      <td>0</td>\n",
       "      <td>2050063366</td>\n",
       "      <td>Fri Jun 05 18:00:07 PDT 2009</td>\n",
       "      <td>NO_QUERY</td>\n",
       "      <td>cwiiis</td>\n",
       "      <td>oh man, my PS3 crashed while I was doing parti...</td>\n",
       "    </tr>\n",
       "    <tr>\n",
       "      <th>308765</th>\n",
       "      <td>0</td>\n",
       "      <td>2000762134</td>\n",
       "      <td>Mon Jun 01 22:53:56 PDT 2009</td>\n",
       "      <td>NO_QUERY</td>\n",
       "      <td>BeccaB67</td>\n",
       "      <td>@DougEWhite Awwwwwww  I'm sorry.  Now I feel b...</td>\n",
       "    </tr>\n",
       "  </tbody>\n",
       "</table>\n",
       "</div>"
      ],
      "text/plain": [
       "         target         ids                          date      flag  \\\n",
       "301719        0  1998757599  Mon Jun 01 19:04:34 PDT 2009  NO_QUERY   \n",
       "1003073       4  1880277171  Fri May 22 00:40:52 PDT 2009  NO_QUERY   \n",
       "1457522       4  2063589095  Sun Jun 07 03:16:33 PDT 2009  NO_QUERY   \n",
       "1418599       4  2057818142  Sat Jun 06 13:43:08 PDT 2009  NO_QUERY   \n",
       "301608        0  1998726943  Mon Jun 01 19:01:35 PDT 2009  NO_QUERY   \n",
       "736866        0  2265104342  Sun Jun 21 05:48:00 PDT 2009  NO_QUERY   \n",
       "889712        4  1687797936  Sun May 03 09:36:52 PDT 2009  NO_QUERY   \n",
       "507354        0  2188879563  Mon Jun 15 22:45:26 PDT 2009  NO_QUERY   \n",
       "370147        0  2050063366  Fri Jun 05 18:00:07 PDT 2009  NO_QUERY   \n",
       "308765        0  2000762134  Mon Jun 01 22:53:56 PDT 2009  NO_QUERY   \n",
       "\n",
       "                    user                                               text  \n",
       "301719         LavishAve                       Just Got Home Bad Day Today   \n",
       "1003073           dabe83   @djshelton @mikeyballardo goodnight silly boys.   \n",
       "1457522  MartinGBEdwards  @HoptonHouseBnB  #elevensestime Oh yes, very a...  \n",
       "1418599      laurabethhk  around burlington until the 17th  im with out ...  \n",
       "301608        babygurltl  Ok so, the paramedics just came to my house, o...  \n",
       "736866      dieguitoLAMB  thereÂ´s exactly a 500 gap from following 869 ...  \n",
       "889712          LStathis  @BrittanyRS 4days till margarita madness at th...  \n",
       "507354        _kryshelle  my gastric is hurting like mad even though i j...  \n",
       "370147            cwiiis  oh man, my PS3 crashed while I was doing parti...  \n",
       "308765          BeccaB67  @DougEWhite Awwwwwww  I'm sorry.  Now I feel b...  "
      ]
     },
     "execution_count": 12,
     "metadata": {},
     "output_type": "execute_result"
    }
   ],
   "source": [
    "df_tweets.sample(10)"
   ]
  },
  {
   "cell_type": "code",
   "execution_count": 13,
   "id": "d23ed6e4",
   "metadata": {},
   "outputs": [],
   "source": [
    "df_tweets = df_tweets[['target', 'text']]"
   ]
  },
  {
   "cell_type": "markdown",
   "id": "c02e0687",
   "metadata": {},
   "source": [
    "# Preprocessing"
   ]
  },
  {
   "cell_type": "code",
   "execution_count": 17,
   "id": "9978cba3",
   "metadata": {},
   "outputs": [],
   "source": [
    "# Text preprocessing\n",
    "stop_words = set(stopwords.words('english'))\n",
    "stemmer = PorterStemmer()\n",
    "\n",
    "def preprocess(text):\n",
    "    # Lowercase\n",
    "    text = text.lower()\n",
    "    # Remove URLs, mentions, and special chars\n",
    "    text = re.sub(r'http\\S+|@\\w+|[^a-zA-Z\\s]', '', text)\n",
    "    # Tokenize and remove stopwords/stem\n",
    "    tokens = word_tokenize(text)\n",
    "    tokens = [stemmer.stem(word) for word in tokens if word not in stop_words]\n",
    "    return ' '.join(tokens)\n",
    "\n",
    "df_tweets['cleaned_text'] = df_tweets['text'].apply(preprocess)"
   ]
  },
  {
   "cell_type": "code",
   "execution_count": 22,
   "id": "e17b45ab",
   "metadata": {},
   "outputs": [],
   "source": [
    "df_tweets.to_csv('df_tweets_cleaned.csv', encoding='utf-8', index=False)"
   ]
  },
  {
   "cell_type": "markdown",
   "id": "5ca806de",
   "metadata": {},
   "source": [
    "# Feature representation"
   ]
  },
  {
   "cell_type": "code",
   "execution_count": 2,
   "id": "3ec3649c",
   "metadata": {},
   "outputs": [],
   "source": [
    "df_tweets_cleaned = pd.read_csv(\"df_tweets_cleaned.csv\")"
   ]
  },
  {
   "cell_type": "code",
   "execution_count": 3,
   "id": "fcbead50",
   "metadata": {},
   "outputs": [
    {
     "data": {
      "application/vnd.microsoft.datawrangler.viewer.v0+json": {
       "columns": [
        {
         "name": "index",
         "rawType": "int64",
         "type": "integer"
        },
        {
         "name": "target",
         "rawType": "int64",
         "type": "integer"
        },
        {
         "name": "cleaned_text",
         "rawType": "object",
         "type": "string"
        }
       ],
       "conversionMethod": "pd.DataFrame",
       "ref": "3bf78c1b-7611-4983-8b61-9e9239d93da5",
       "rows": [
        [
         "1504419",
         "4",
         "kathi sympath empath situat price pay quotcivilizationquot eh"
        ],
        [
         "135381",
         "0",
         "found today word ranger anoth term person redorang hair like orangatan offens"
        ],
        [
         "878724",
         "4",
         "chillin jay zed"
        ],
        [
         "1239032",
         "4",
         "love sunni gud food xelent cmpani gr forget life hiccup bit"
        ],
        [
         "405027",
         "0",
         "nap bad migrain"
        ]
       ],
       "shape": {
        "columns": 2,
        "rows": 5
       }
      },
      "text/html": [
       "<div>\n",
       "<style scoped>\n",
       "    .dataframe tbody tr th:only-of-type {\n",
       "        vertical-align: middle;\n",
       "    }\n",
       "\n",
       "    .dataframe tbody tr th {\n",
       "        vertical-align: top;\n",
       "    }\n",
       "\n",
       "    .dataframe thead th {\n",
       "        text-align: right;\n",
       "    }\n",
       "</style>\n",
       "<table border=\"1\" class=\"dataframe\">\n",
       "  <thead>\n",
       "    <tr style=\"text-align: right;\">\n",
       "      <th></th>\n",
       "      <th>target</th>\n",
       "      <th>cleaned_text</th>\n",
       "    </tr>\n",
       "  </thead>\n",
       "  <tbody>\n",
       "    <tr>\n",
       "      <th>1504419</th>\n",
       "      <td>4</td>\n",
       "      <td>kathi sympath empath situat price pay quotcivi...</td>\n",
       "    </tr>\n",
       "    <tr>\n",
       "      <th>135381</th>\n",
       "      <td>0</td>\n",
       "      <td>found today word ranger anoth term person redo...</td>\n",
       "    </tr>\n",
       "    <tr>\n",
       "      <th>878724</th>\n",
       "      <td>4</td>\n",
       "      <td>chillin jay zed</td>\n",
       "    </tr>\n",
       "    <tr>\n",
       "      <th>1239032</th>\n",
       "      <td>4</td>\n",
       "      <td>love sunni gud food xelent cmpani gr forget li...</td>\n",
       "    </tr>\n",
       "    <tr>\n",
       "      <th>405027</th>\n",
       "      <td>0</td>\n",
       "      <td>nap bad migrain</td>\n",
       "    </tr>\n",
       "  </tbody>\n",
       "</table>\n",
       "</div>"
      ],
      "text/plain": [
       "         target                                       cleaned_text\n",
       "1504419       4  kathi sympath empath situat price pay quotcivi...\n",
       "135381        0  found today word ranger anoth term person redo...\n",
       "878724        4                                    chillin jay zed\n",
       "1239032       4  love sunni gud food xelent cmpani gr forget li...\n",
       "405027        0                                    nap bad migrain"
      ]
     },
     "execution_count": 3,
     "metadata": {},
     "output_type": "execute_result"
    }
   ],
   "source": [
    "df_tweets_cleaned = df_tweets_cleaned[['target', 'cleaned_text']]\n",
    "\n",
    "df_tweets_cleaned.sample(5)"
   ]
  },
  {
   "cell_type": "code",
   "execution_count": 4,
   "id": "494d22da",
   "metadata": {},
   "outputs": [],
   "source": [
    "df_tweets_cleaned['cleaned_text'] = df_tweets_cleaned['cleaned_text'].fillna('tree').astype(str)"
   ]
  },
  {
   "cell_type": "code",
   "execution_count": 5,
   "id": "38571584",
   "metadata": {},
   "outputs": [
    {
     "data": {
      "text/plain": [
       "((1120000,), (480000,), (1120000,), (480000,))"
      ]
     },
     "execution_count": 5,
     "metadata": {},
     "output_type": "execute_result"
    }
   ],
   "source": [
    "X = df_tweets_cleaned['cleaned_text']\n",
    "y = df_tweets_cleaned['target']\n",
    "\n",
    "X_train_tf_idf, X_test_tf_idf, y_train, y_test = train_test_split(X, y, test_size=0.3, random_state=123)\n",
    "\n",
    "X_train_tf_idf.shape, X_test_tf_idf.shape, y_train.shape, y_test.shape"
   ]
  },
  {
   "cell_type": "code",
   "execution_count": null,
   "id": "ce8c5753",
   "metadata": {},
   "outputs": [],
   "source": [
    "#X_train = X_train.fillna(\"\")\n",
    "#X_test = X_test.fillna(\"\")"
   ]
  },
  {
   "cell_type": "markdown",
   "id": "797afa16",
   "metadata": {},
   "source": [
    "## TF-IDF"
   ]
  },
  {
   "cell_type": "code",
   "execution_count": 30,
   "id": "3c9ae2c5",
   "metadata": {},
   "outputs": [],
   "source": [
    "featurizer = TfidfVectorizer()\n",
    "\n",
    "X_train_tf_idf = featurizer.fit_transform(X_train_tf_idf)\n",
    "X_test_tf_idf  = featurizer.transform(X_test_tf_idf)"
   ]
  },
  {
   "cell_type": "code",
   "execution_count": 31,
   "id": "8698361b",
   "metadata": {},
   "outputs": [
    {
     "name": "stdout",
     "output_type": "stream",
     "text": [
      "<class 'pandas.core.frame.DataFrame'>\n",
      "RangeIndex: 1600000 entries, 0 to 1599999\n",
      "Data columns (total 2 columns):\n",
      " #   Column        Non-Null Count    Dtype \n",
      "---  ------        --------------    ----- \n",
      " 0   target        1600000 non-null  int64 \n",
      " 1   cleaned_text  1600000 non-null  object\n",
      "dtypes: int64(1), object(1)\n",
      "memory usage: 24.4+ MB\n"
     ]
    }
   ],
   "source": [
    "df_tweets_cleaned.info()"
   ]
  },
  {
   "cell_type": "markdown",
   "id": "2325ccfc",
   "metadata": {},
   "source": [
    "## Word2Vec"
   ]
  },
  {
   "cell_type": "code",
   "execution_count": 36,
   "id": "116d4d48",
   "metadata": {},
   "outputs": [],
   "source": [
    "# Tokenize for Word2Vec\n",
    "sentences = [text.split() for text in df_tweets_cleaned['cleaned_text']]\n",
    "w2v_model = Word2Vec(sentences, vector_size=100, window=5, min_count=1, workers=4)\n",
    "\n",
    "# Document embedding (average word vectors)\n",
    "def document_vector(text):\n",
    "    words = text.split()\n",
    "    #return np.mean([w2v_model.wv[word] for word in words if word in w2v_model.wv], axis=0)\n",
    "    word_vecs = [w2v_model.wv[word] for word in words if word in w2v_model.wv]\n",
    "    \n",
    "    if len(word_vecs) == 0:\n",
    "        return np.zeros(w2v_model.vector_size)\n",
    "    \n",
    "    return np.mean(word_vecs, axis=0)\n",
    "\n",
    "X_w2v = np.array([document_vector(text) for text in df_tweets_cleaned['cleaned_text']])"
   ]
  },
  {
   "cell_type": "code",
   "execution_count": 38,
   "id": "5d91bece",
   "metadata": {},
   "outputs": [
    {
     "data": {
      "text/plain": [
       "array([[ 0.29605904,  1.3709836 , -0.44887289, ..., -0.69944423,\n",
       "        -0.06612733,  0.0147397 ],\n",
       "       [-0.01756582,  0.29085168, -0.15293385, ..., -0.74397951,\n",
       "         0.35941991,  0.20375983],\n",
       "       [-0.195329  ,  0.65271652, -0.3514432 , ..., -0.73574954,\n",
       "         0.28448611, -0.02574982],\n",
       "       ...,\n",
       "       [-0.68672436,  0.09740587, -0.36710018, ..., -0.48947191,\n",
       "         0.2504757 ,  0.58563453],\n",
       "       [-0.84369695,  0.37374285, -0.23528989, ..., -0.53407794,\n",
       "        -0.35350621,  0.03815288],\n",
       "       [-1.03638959, -1.27094924,  0.52229124, ..., -0.57438082,\n",
       "        -0.85335666, -0.0181255 ]])"
      ]
     },
     "execution_count": 38,
     "metadata": {},
     "output_type": "execute_result"
    }
   ],
   "source": [
    "X_w2v"
   ]
  },
  {
   "cell_type": "code",
   "execution_count": 39,
   "id": "3f426750",
   "metadata": {},
   "outputs": [
    {
     "data": {
      "text/plain": [
       "0"
      ]
     },
     "execution_count": 39,
     "metadata": {},
     "output_type": "execute_result"
    }
   ],
   "source": [
    "pd.Series(df_tweets_cleaned['cleaned_text']).isna().sum()"
   ]
  },
  {
   "cell_type": "code",
   "execution_count": 40,
   "id": "7bd2c157",
   "metadata": {},
   "outputs": [
    {
     "data": {
      "text/plain": [
       "((1120000, 100), (480000, 100), (1120000,), (480000,))"
      ]
     },
     "execution_count": 40,
     "metadata": {},
     "output_type": "execute_result"
    }
   ],
   "source": [
    "X_train_w2v, X_test_w2v, y_train, y_test = train_test_split(X_w2v, y, test_size=0.3, random_state=123)\n",
    "\n",
    "X_train_w2v.shape, X_test_w2v.shape, y_train.shape, y_test.shape"
   ]
  },
  {
   "cell_type": "markdown",
   "id": "392c329e",
   "metadata": {},
   "source": [
    "## GPT"
   ]
  },
  {
   "cell_type": "code",
   "execution_count": 6,
   "id": "d9ba18f7",
   "metadata": {},
   "outputs": [],
   "source": [
    "openai.api_key = openai_key"
   ]
  },
  {
   "cell_type": "code",
   "execution_count": 7,
   "id": "8287f00f",
   "metadata": {},
   "outputs": [
    {
     "ename": "RateLimitError",
     "evalue": "You exceeded your current quota, please check your plan and billing details. For more information on this error, read the docs: https://platform.openai.com/docs/guides/error-codes/api-errors.",
     "output_type": "error",
     "traceback": [
      "\u001b[1;31m---------------------------------------------------------------------------\u001b[0m",
      "\u001b[1;31mRateLimitError\u001b[0m                            Traceback (most recent call last)",
      "Cell \u001b[1;32mIn[7], line 6\u001b[0m\n\u001b[0;32m      3\u001b[0m     response \u001b[38;5;241m=\u001b[39m openai\u001b[38;5;241m.\u001b[39mEmbedding\u001b[38;5;241m.\u001b[39mcreate(\u001b[38;5;28minput\u001b[39m\u001b[38;5;241m=\u001b[39mtext, model\u001b[38;5;241m=\u001b[39m\u001b[38;5;124m\"\u001b[39m\u001b[38;5;124mtext-embedding-ada-002\u001b[39m\u001b[38;5;124m\"\u001b[39m)\n\u001b[0;32m      4\u001b[0m     \u001b[38;5;28;01mreturn\u001b[39;00m np\u001b[38;5;241m.\u001b[39marray(response[\u001b[38;5;124m'\u001b[39m\u001b[38;5;124mdata\u001b[39m\u001b[38;5;124m'\u001b[39m][\u001b[38;5;241m0\u001b[39m][\u001b[38;5;124m'\u001b[39m\u001b[38;5;124membedding\u001b[39m\u001b[38;5;124m'\u001b[39m])\n\u001b[1;32m----> 6\u001b[0m X_gpt \u001b[38;5;241m=\u001b[39m np\u001b[38;5;241m.\u001b[39marray([get_gpt_embedding(text) \u001b[38;5;28;01mfor\u001b[39;00m text \u001b[38;5;129;01min\u001b[39;00m df_tweets_cleaned[\u001b[38;5;124m'\u001b[39m\u001b[38;5;124mcleaned_text\u001b[39m\u001b[38;5;124m'\u001b[39m]])\n",
      "Cell \u001b[1;32mIn[7], line 3\u001b[0m, in \u001b[0;36mget_gpt_embedding\u001b[1;34m(text)\u001b[0m\n\u001b[0;32m      2\u001b[0m \u001b[38;5;28;01mdef\u001b[39;00m \u001b[38;5;21mget_gpt_embedding\u001b[39m(text):\n\u001b[1;32m----> 3\u001b[0m     response \u001b[38;5;241m=\u001b[39m openai\u001b[38;5;241m.\u001b[39mEmbedding\u001b[38;5;241m.\u001b[39mcreate(\u001b[38;5;28minput\u001b[39m\u001b[38;5;241m=\u001b[39mtext, model\u001b[38;5;241m=\u001b[39m\u001b[38;5;124m\"\u001b[39m\u001b[38;5;124mtext-embedding-ada-002\u001b[39m\u001b[38;5;124m\"\u001b[39m)\n\u001b[0;32m      4\u001b[0m     \u001b[38;5;28;01mreturn\u001b[39;00m np\u001b[38;5;241m.\u001b[39marray(response[\u001b[38;5;124m'\u001b[39m\u001b[38;5;124mdata\u001b[39m\u001b[38;5;124m'\u001b[39m][\u001b[38;5;241m0\u001b[39m][\u001b[38;5;124m'\u001b[39m\u001b[38;5;124membedding\u001b[39m\u001b[38;5;124m'\u001b[39m])\n",
      "File \u001b[1;32mc:\\Users\\dsta0\\anaconda3\\Lib\\site-packages\\openai\\api_resources\\embedding.py:33\u001b[0m, in \u001b[0;36mEmbedding.create\u001b[1;34m(cls, *args, **kwargs)\u001b[0m\n\u001b[0;32m     31\u001b[0m \u001b[38;5;28;01mwhile\u001b[39;00m \u001b[38;5;28;01mTrue\u001b[39;00m:\n\u001b[0;32m     32\u001b[0m     \u001b[38;5;28;01mtry\u001b[39;00m:\n\u001b[1;32m---> 33\u001b[0m         response \u001b[38;5;241m=\u001b[39m \u001b[38;5;28msuper\u001b[39m()\u001b[38;5;241m.\u001b[39mcreate(\u001b[38;5;241m*\u001b[39margs, \u001b[38;5;241m*\u001b[39m\u001b[38;5;241m*\u001b[39mkwargs)\n\u001b[0;32m     35\u001b[0m         \u001b[38;5;66;03m# If a user specifies base64, we'll just return the encoded string.\u001b[39;00m\n\u001b[0;32m     36\u001b[0m         \u001b[38;5;66;03m# This is only for the default case.\u001b[39;00m\n\u001b[0;32m     37\u001b[0m         \u001b[38;5;28;01mif\u001b[39;00m \u001b[38;5;129;01mnot\u001b[39;00m user_provided_encoding_format:\n",
      "File \u001b[1;32mc:\\Users\\dsta0\\anaconda3\\Lib\\site-packages\\openai\\api_resources\\abstract\\engine_api_resource.py:153\u001b[0m, in \u001b[0;36mEngineAPIResource.create\u001b[1;34m(cls, api_key, api_base, api_type, request_id, api_version, organization, **params)\u001b[0m\n\u001b[0;32m    127\u001b[0m \u001b[38;5;129m@classmethod\u001b[39m\n\u001b[0;32m    128\u001b[0m \u001b[38;5;28;01mdef\u001b[39;00m \u001b[38;5;21mcreate\u001b[39m(\n\u001b[0;32m    129\u001b[0m     \u001b[38;5;28mcls\u001b[39m,\n\u001b[1;32m   (...)\u001b[0m\n\u001b[0;32m    136\u001b[0m     \u001b[38;5;241m*\u001b[39m\u001b[38;5;241m*\u001b[39mparams,\n\u001b[0;32m    137\u001b[0m ):\n\u001b[0;32m    138\u001b[0m     (\n\u001b[0;32m    139\u001b[0m         deployment_id,\n\u001b[0;32m    140\u001b[0m         engine,\n\u001b[1;32m   (...)\u001b[0m\n\u001b[0;32m    150\u001b[0m         api_key, api_base, api_type, api_version, organization, \u001b[38;5;241m*\u001b[39m\u001b[38;5;241m*\u001b[39mparams\n\u001b[0;32m    151\u001b[0m     )\n\u001b[1;32m--> 153\u001b[0m     response, _, api_key \u001b[38;5;241m=\u001b[39m requestor\u001b[38;5;241m.\u001b[39mrequest(\n\u001b[0;32m    154\u001b[0m         \u001b[38;5;124m\"\u001b[39m\u001b[38;5;124mpost\u001b[39m\u001b[38;5;124m\"\u001b[39m,\n\u001b[0;32m    155\u001b[0m         url,\n\u001b[0;32m    156\u001b[0m         params\u001b[38;5;241m=\u001b[39mparams,\n\u001b[0;32m    157\u001b[0m         headers\u001b[38;5;241m=\u001b[39mheaders,\n\u001b[0;32m    158\u001b[0m         stream\u001b[38;5;241m=\u001b[39mstream,\n\u001b[0;32m    159\u001b[0m         request_id\u001b[38;5;241m=\u001b[39mrequest_id,\n\u001b[0;32m    160\u001b[0m         request_timeout\u001b[38;5;241m=\u001b[39mrequest_timeout,\n\u001b[0;32m    161\u001b[0m     )\n\u001b[0;32m    163\u001b[0m     \u001b[38;5;28;01mif\u001b[39;00m stream:\n\u001b[0;32m    164\u001b[0m         \u001b[38;5;66;03m# must be an iterator\u001b[39;00m\n\u001b[0;32m    165\u001b[0m         \u001b[38;5;28;01massert\u001b[39;00m \u001b[38;5;129;01mnot\u001b[39;00m \u001b[38;5;28misinstance\u001b[39m(response, OpenAIResponse)\n",
      "File \u001b[1;32mc:\\Users\\dsta0\\anaconda3\\Lib\\site-packages\\openai\\api_requestor.py:298\u001b[0m, in \u001b[0;36mAPIRequestor.request\u001b[1;34m(self, method, url, params, headers, files, stream, request_id, request_timeout)\u001b[0m\n\u001b[0;32m    277\u001b[0m \u001b[38;5;28;01mdef\u001b[39;00m \u001b[38;5;21mrequest\u001b[39m(\n\u001b[0;32m    278\u001b[0m     \u001b[38;5;28mself\u001b[39m,\n\u001b[0;32m    279\u001b[0m     method,\n\u001b[1;32m   (...)\u001b[0m\n\u001b[0;32m    286\u001b[0m     request_timeout: Optional[Union[\u001b[38;5;28mfloat\u001b[39m, Tuple[\u001b[38;5;28mfloat\u001b[39m, \u001b[38;5;28mfloat\u001b[39m]]] \u001b[38;5;241m=\u001b[39m \u001b[38;5;28;01mNone\u001b[39;00m,\n\u001b[0;32m    287\u001b[0m ) \u001b[38;5;241m-\u001b[39m\u001b[38;5;241m>\u001b[39m Tuple[Union[OpenAIResponse, Iterator[OpenAIResponse]], \u001b[38;5;28mbool\u001b[39m, \u001b[38;5;28mstr\u001b[39m]:\n\u001b[0;32m    288\u001b[0m     result \u001b[38;5;241m=\u001b[39m \u001b[38;5;28mself\u001b[39m\u001b[38;5;241m.\u001b[39mrequest_raw(\n\u001b[0;32m    289\u001b[0m         method\u001b[38;5;241m.\u001b[39mlower(),\n\u001b[0;32m    290\u001b[0m         url,\n\u001b[1;32m   (...)\u001b[0m\n\u001b[0;32m    296\u001b[0m         request_timeout\u001b[38;5;241m=\u001b[39mrequest_timeout,\n\u001b[0;32m    297\u001b[0m     )\n\u001b[1;32m--> 298\u001b[0m     resp, got_stream \u001b[38;5;241m=\u001b[39m \u001b[38;5;28mself\u001b[39m\u001b[38;5;241m.\u001b[39m_interpret_response(result, stream)\n\u001b[0;32m    299\u001b[0m     \u001b[38;5;28;01mreturn\u001b[39;00m resp, got_stream, \u001b[38;5;28mself\u001b[39m\u001b[38;5;241m.\u001b[39mapi_key\n",
      "File \u001b[1;32mc:\\Users\\dsta0\\anaconda3\\Lib\\site-packages\\openai\\api_requestor.py:700\u001b[0m, in \u001b[0;36mAPIRequestor._interpret_response\u001b[1;34m(self, result, stream)\u001b[0m\n\u001b[0;32m    692\u001b[0m     \u001b[38;5;28;01mreturn\u001b[39;00m (\n\u001b[0;32m    693\u001b[0m         \u001b[38;5;28mself\u001b[39m\u001b[38;5;241m.\u001b[39m_interpret_response_line(\n\u001b[0;32m    694\u001b[0m             line, result\u001b[38;5;241m.\u001b[39mstatus_code, result\u001b[38;5;241m.\u001b[39mheaders, stream\u001b[38;5;241m=\u001b[39m\u001b[38;5;28;01mTrue\u001b[39;00m\n\u001b[0;32m    695\u001b[0m         )\n\u001b[0;32m    696\u001b[0m         \u001b[38;5;28;01mfor\u001b[39;00m line \u001b[38;5;129;01min\u001b[39;00m parse_stream(result\u001b[38;5;241m.\u001b[39miter_lines())\n\u001b[0;32m    697\u001b[0m     ), \u001b[38;5;28;01mTrue\u001b[39;00m\n\u001b[0;32m    698\u001b[0m \u001b[38;5;28;01melse\u001b[39;00m:\n\u001b[0;32m    699\u001b[0m     \u001b[38;5;28;01mreturn\u001b[39;00m (\n\u001b[1;32m--> 700\u001b[0m         \u001b[38;5;28mself\u001b[39m\u001b[38;5;241m.\u001b[39m_interpret_response_line(\n\u001b[0;32m    701\u001b[0m             result\u001b[38;5;241m.\u001b[39mcontent\u001b[38;5;241m.\u001b[39mdecode(\u001b[38;5;124m\"\u001b[39m\u001b[38;5;124mutf-8\u001b[39m\u001b[38;5;124m\"\u001b[39m),\n\u001b[0;32m    702\u001b[0m             result\u001b[38;5;241m.\u001b[39mstatus_code,\n\u001b[0;32m    703\u001b[0m             result\u001b[38;5;241m.\u001b[39mheaders,\n\u001b[0;32m    704\u001b[0m             stream\u001b[38;5;241m=\u001b[39m\u001b[38;5;28;01mFalse\u001b[39;00m,\n\u001b[0;32m    705\u001b[0m         ),\n\u001b[0;32m    706\u001b[0m         \u001b[38;5;28;01mFalse\u001b[39;00m,\n\u001b[0;32m    707\u001b[0m     )\n",
      "File \u001b[1;32mc:\\Users\\dsta0\\anaconda3\\Lib\\site-packages\\openai\\api_requestor.py:765\u001b[0m, in \u001b[0;36mAPIRequestor._interpret_response_line\u001b[1;34m(self, rbody, rcode, rheaders, stream)\u001b[0m\n\u001b[0;32m    763\u001b[0m stream_error \u001b[38;5;241m=\u001b[39m stream \u001b[38;5;129;01mand\u001b[39;00m \u001b[38;5;124m\"\u001b[39m\u001b[38;5;124merror\u001b[39m\u001b[38;5;124m\"\u001b[39m \u001b[38;5;129;01min\u001b[39;00m resp\u001b[38;5;241m.\u001b[39mdata\n\u001b[0;32m    764\u001b[0m \u001b[38;5;28;01mif\u001b[39;00m stream_error \u001b[38;5;129;01mor\u001b[39;00m \u001b[38;5;129;01mnot\u001b[39;00m \u001b[38;5;241m200\u001b[39m \u001b[38;5;241m<\u001b[39m\u001b[38;5;241m=\u001b[39m rcode \u001b[38;5;241m<\u001b[39m \u001b[38;5;241m300\u001b[39m:\n\u001b[1;32m--> 765\u001b[0m     \u001b[38;5;28;01mraise\u001b[39;00m \u001b[38;5;28mself\u001b[39m\u001b[38;5;241m.\u001b[39mhandle_error_response(\n\u001b[0;32m    766\u001b[0m         rbody, rcode, resp\u001b[38;5;241m.\u001b[39mdata, rheaders, stream_error\u001b[38;5;241m=\u001b[39mstream_error\n\u001b[0;32m    767\u001b[0m     )\n\u001b[0;32m    768\u001b[0m \u001b[38;5;28;01mreturn\u001b[39;00m resp\n",
      "\u001b[1;31mRateLimitError\u001b[0m: You exceeded your current quota, please check your plan and billing details. For more information on this error, read the docs: https://platform.openai.com/docs/guides/error-codes/api-errors."
     ]
    }
   ],
   "source": [
    "# Use OpenAI's API (requires API key)\n",
    "def get_gpt_embedding(text):\n",
    "    response = openai.Embedding.create(input=text, model=\"text-embedding-ada-002\")\n",
    "    return np.array(response['data'][0]['embedding'])\n",
    "\n",
    "X_gpt = np.array([get_gpt_embedding(text) for text in df_tweets_cleaned['cleaned_text']])"
   ]
  },
  {
   "cell_type": "code",
   "execution_count": 8,
   "id": "c09f8341",
   "metadata": {},
   "outputs": [
    {
     "name": "stdout",
     "output_type": "stream",
     "text": [
      "Collecting transformers\n",
      "  Downloading transformers-4.51.2-py3-none-any.whl.metadata (38 kB)\n",
      "Collecting sentence-transformers\n",
      "  Downloading sentence_transformers-4.0.2-py3-none-any.whl.metadata (13 kB)\n",
      "Requirement already satisfied: filelock in c:\\users\\dsta0\\anaconda3\\lib\\site-packages (from transformers) (3.13.1)\n",
      "Collecting huggingface-hub<1.0,>=0.30.0 (from transformers)\n",
      "  Downloading huggingface_hub-0.30.2-py3-none-any.whl.metadata (13 kB)\n",
      "Requirement already satisfied: numpy>=1.17 in c:\\users\\dsta0\\anaconda3\\lib\\site-packages (from transformers) (1.26.4)\n",
      "Requirement already satisfied: packaging>=20.0 in c:\\users\\dsta0\\anaconda3\\lib\\site-packages (from transformers) (24.2)\n",
      "Requirement already satisfied: pyyaml>=5.1 in c:\\users\\dsta0\\anaconda3\\lib\\site-packages (from transformers) (6.0.2)\n",
      "Requirement already satisfied: regex!=2019.12.17 in c:\\users\\dsta0\\anaconda3\\lib\\site-packages (from transformers) (2024.9.11)\n",
      "Requirement already satisfied: requests in c:\\users\\dsta0\\anaconda3\\lib\\site-packages (from transformers) (2.32.3)\n",
      "Collecting tokenizers<0.22,>=0.21 (from transformers)\n",
      "  Using cached tokenizers-0.21.1-cp39-abi3-win_amd64.whl.metadata (6.9 kB)\n",
      "Collecting safetensors>=0.4.3 (from transformers)\n",
      "  Using cached safetensors-0.5.3-cp38-abi3-win_amd64.whl.metadata (3.9 kB)\n",
      "Requirement already satisfied: tqdm>=4.27 in c:\\users\\dsta0\\anaconda3\\lib\\site-packages (from transformers) (4.66.5)\n",
      "Collecting torch>=1.11.0 (from sentence-transformers)\n",
      "  Downloading torch-2.6.0-cp312-cp312-win_amd64.whl.metadata (28 kB)\n",
      "Requirement already satisfied: scikit-learn in c:\\users\\dsta0\\anaconda3\\lib\\site-packages (from sentence-transformers) (1.5.2)\n",
      "Requirement already satisfied: scipy in c:\\users\\dsta0\\anaconda3\\lib\\site-packages (from sentence-transformers) (1.12.0)\n",
      "Requirement already satisfied: Pillow in c:\\users\\dsta0\\anaconda3\\lib\\site-packages (from sentence-transformers) (11.0.0)\n",
      "Requirement already satisfied: typing_extensions>=4.5.0 in c:\\users\\dsta0\\anaconda3\\lib\\site-packages (from sentence-transformers) (4.12.2)\n",
      "Requirement already satisfied: fsspec>=2023.5.0 in c:\\users\\dsta0\\anaconda3\\lib\\site-packages (from huggingface-hub<1.0,>=0.30.0->transformers) (2024.6.1)\n",
      "Requirement already satisfied: networkx in c:\\users\\dsta0\\anaconda3\\lib\\site-packages (from torch>=1.11.0->sentence-transformers) (3.3)\n",
      "Requirement already satisfied: jinja2 in c:\\users\\dsta0\\anaconda3\\lib\\site-packages (from torch>=1.11.0->sentence-transformers) (3.1.4)\n",
      "Requirement already satisfied: setuptools in c:\\users\\dsta0\\anaconda3\\lib\\site-packages (from torch>=1.11.0->sentence-transformers) (75.1.0)\n",
      "Collecting sympy==1.13.1 (from torch>=1.11.0->sentence-transformers)\n",
      "  Using cached sympy-1.13.1-py3-none-any.whl.metadata (12 kB)\n",
      "Requirement already satisfied: mpmath<1.4,>=1.1.0 in c:\\users\\dsta0\\anaconda3\\lib\\site-packages (from sympy==1.13.1->torch>=1.11.0->sentence-transformers) (1.3.0)\n",
      "Requirement already satisfied: colorama in c:\\users\\dsta0\\anaconda3\\lib\\site-packages (from tqdm>=4.27->transformers) (0.4.6)\n",
      "Requirement already satisfied: charset-normalizer<4,>=2 in c:\\users\\dsta0\\anaconda3\\lib\\site-packages (from requests->transformers) (3.3.2)\n",
      "Requirement already satisfied: idna<4,>=2.5 in c:\\users\\dsta0\\anaconda3\\lib\\site-packages (from requests->transformers) (3.7)\n",
      "Requirement already satisfied: urllib3<3,>=1.21.1 in c:\\users\\dsta0\\anaconda3\\lib\\site-packages (from requests->transformers) (2.2.3)\n",
      "Requirement already satisfied: certifi>=2017.4.17 in c:\\users\\dsta0\\anaconda3\\lib\\site-packages (from requests->transformers) (2024.12.14)\n",
      "Requirement already satisfied: joblib>=1.2.0 in c:\\users\\dsta0\\anaconda3\\lib\\site-packages (from scikit-learn->sentence-transformers) (1.4.2)\n",
      "Requirement already satisfied: threadpoolctl>=3.1.0 in c:\\users\\dsta0\\anaconda3\\lib\\site-packages (from scikit-learn->sentence-transformers) (3.5.0)\n",
      "Requirement already satisfied: MarkupSafe>=2.0 in c:\\users\\dsta0\\anaconda3\\lib\\site-packages (from jinja2->torch>=1.11.0->sentence-transformers) (2.1.3)\n",
      "Downloading transformers-4.51.2-py3-none-any.whl (10.4 MB)\n",
      "   ---------------------------------------- 0.0/10.4 MB ? eta -:--:--\n",
      "   -- ------------------------------------- 0.5/10.4 MB 2.4 MB/s eta 0:00:05\n",
      "   ---- ----------------------------------- 1.0/10.4 MB 2.8 MB/s eta 0:00:04\n",
      "   ------ --------------------------------- 1.6/10.4 MB 2.5 MB/s eta 0:00:04\n",
      "   -------- ------------------------------- 2.1/10.4 MB 2.7 MB/s eta 0:00:04\n",
      "   ---------- ----------------------------- 2.6/10.4 MB 2.7 MB/s eta 0:00:03\n",
      "   ------------- -------------------------- 3.4/10.4 MB 2.8 MB/s eta 0:00:03\n",
      "   --------------- ------------------------ 3.9/10.4 MB 2.7 MB/s eta 0:00:03\n",
      "   --------------- ------------------------ 3.9/10.4 MB 2.7 MB/s eta 0:00:03\n",
      "   --------------- ------------------------ 3.9/10.4 MB 2.7 MB/s eta 0:00:03\n",
      "   ------------------- -------------------- 5.0/10.4 MB 2.4 MB/s eta 0:00:03\n",
      "   ---------------------- ----------------- 5.8/10.4 MB 2.5 MB/s eta 0:00:02\n",
      "   ------------------------ --------------- 6.3/10.4 MB 2.5 MB/s eta 0:00:02\n",
      "   -------------------------- ------------- 6.8/10.4 MB 2.6 MB/s eta 0:00:02\n",
      "   ----------------------------- ---------- 7.6/10.4 MB 2.6 MB/s eta 0:00:02\n",
      "   ------------------------------- -------- 8.1/10.4 MB 2.7 MB/s eta 0:00:01\n",
      "   ---------------------------------- ----- 8.9/10.4 MB 2.7 MB/s eta 0:00:01\n",
      "   ------------------------------------ --- 9.4/10.4 MB 2.7 MB/s eta 0:00:01\n",
      "   -------------------------------------- - 10.0/10.4 MB 2.7 MB/s eta 0:00:01\n",
      "   ---------------------------------------- 10.4/10.4 MB 2.7 MB/s eta 0:00:00\n",
      "Downloading sentence_transformers-4.0.2-py3-none-any.whl (340 kB)\n",
      "Downloading huggingface_hub-0.30.2-py3-none-any.whl (481 kB)\n",
      "Using cached safetensors-0.5.3-cp38-abi3-win_amd64.whl (308 kB)\n",
      "Using cached tokenizers-0.21.1-cp39-abi3-win_amd64.whl (2.4 MB)\n",
      "Downloading torch-2.6.0-cp312-cp312-win_amd64.whl (204.1 MB)\n",
      "   ---------------------------------------- 0.0/204.1 MB ? eta -:--:--\n",
      "   ---------------------------------------- 0.5/204.1 MB 4.2 MB/s eta 0:00:49\n",
      "   ---------------------------------------- 1.3/204.1 MB 3.4 MB/s eta 0:01:01\n",
      "   ---------------------------------------- 1.8/204.1 MB 3.4 MB/s eta 0:01:01\n",
      "   ---------------------------------------- 2.4/204.1 MB 3.2 MB/s eta 0:01:04\n",
      "    --------------------------------------- 3.1/204.1 MB 3.1 MB/s eta 0:01:05\n",
      "    --------------------------------------- 3.4/204.1 MB 3.1 MB/s eta 0:01:06\n",
      "    --------------------------------------- 4.2/204.1 MB 3.0 MB/s eta 0:01:06\n",
      "    --------------------------------------- 5.0/204.1 MB 3.1 MB/s eta 0:01:06\n",
      "   - -------------------------------------- 5.5/204.1 MB 3.1 MB/s eta 0:01:05\n",
      "   - -------------------------------------- 6.3/204.1 MB 3.1 MB/s eta 0:01:05\n",
      "   - -------------------------------------- 6.8/204.1 MB 3.1 MB/s eta 0:01:04\n",
      "   - -------------------------------------- 7.6/204.1 MB 3.1 MB/s eta 0:01:04\n",
      "   - -------------------------------------- 8.1/204.1 MB 3.1 MB/s eta 0:01:04\n",
      "   - -------------------------------------- 8.1/204.1 MB 3.1 MB/s eta 0:01:04\n",
      "   - -------------------------------------- 8.1/204.1 MB 3.1 MB/s eta 0:01:04\n",
      "   - -------------------------------------- 9.4/204.1 MB 3.0 MB/s eta 0:01:06\n",
      "   -- ------------------------------------- 10.2/204.1 MB 3.0 MB/s eta 0:01:06\n",
      "   -- ------------------------------------- 10.7/204.1 MB 2.9 MB/s eta 0:01:06\n",
      "   -- ------------------------------------- 11.5/204.1 MB 3.0 MB/s eta 0:01:05\n",
      "   -- ------------------------------------- 12.1/204.1 MB 3.0 MB/s eta 0:01:05\n",
      "   -- ------------------------------------- 12.8/204.1 MB 3.0 MB/s eta 0:01:04\n",
      "   -- ------------------------------------- 13.4/204.1 MB 3.0 MB/s eta 0:01:04\n",
      "   -- ------------------------------------- 14.2/204.1 MB 3.0 MB/s eta 0:01:03\n",
      "   -- ------------------------------------- 14.9/204.1 MB 3.0 MB/s eta 0:01:03\n",
      "   --- ------------------------------------ 15.5/204.1 MB 3.0 MB/s eta 0:01:03\n",
      "   --- ------------------------------------ 16.3/204.1 MB 3.0 MB/s eta 0:01:02\n",
      "   --- ------------------------------------ 16.8/204.1 MB 3.0 MB/s eta 0:01:02\n",
      "   --- ------------------------------------ 17.3/204.1 MB 3.0 MB/s eta 0:01:02\n",
      "   --- ------------------------------------ 17.8/204.1 MB 3.0 MB/s eta 0:01:02\n",
      "   --- ------------------------------------ 18.4/204.1 MB 3.0 MB/s eta 0:01:02\n",
      "   --- ------------------------------------ 19.1/204.1 MB 3.0 MB/s eta 0:01:02\n",
      "   --- ------------------------------------ 19.9/204.1 MB 3.0 MB/s eta 0:01:01\n",
      "   ---- ----------------------------------- 20.4/204.1 MB 3.0 MB/s eta 0:01:01\n",
      "   ---- ----------------------------------- 21.0/204.1 MB 3.0 MB/s eta 0:01:01\n",
      "   ---- ----------------------------------- 21.8/204.1 MB 3.0 MB/s eta 0:01:01\n",
      "   ---- ----------------------------------- 22.3/204.1 MB 3.0 MB/s eta 0:01:01\n",
      "   ---- ----------------------------------- 23.1/204.1 MB 3.0 MB/s eta 0:01:00\n",
      "   ---- ----------------------------------- 23.6/204.1 MB 3.0 MB/s eta 0:01:00\n",
      "   ---- ----------------------------------- 24.1/204.1 MB 3.0 MB/s eta 0:01:00\n",
      "   ---- ----------------------------------- 24.6/204.1 MB 3.0 MB/s eta 0:01:00\n",
      "   ---- ----------------------------------- 25.4/204.1 MB 3.0 MB/s eta 0:01:00\n",
      "   ----- ---------------------------------- 26.0/204.1 MB 3.0 MB/s eta 0:01:00\n",
      "   ----- ---------------------------------- 26.5/204.1 MB 3.0 MB/s eta 0:01:00\n",
      "   ----- ---------------------------------- 27.0/204.1 MB 3.0 MB/s eta 0:01:00\n",
      "   ----- ---------------------------------- 27.5/204.1 MB 3.0 MB/s eta 0:00:59\n",
      "   ----- ---------------------------------- 28.3/204.1 MB 3.0 MB/s eta 0:00:59\n",
      "   ----- ---------------------------------- 28.8/204.1 MB 3.0 MB/s eta 0:00:59\n",
      "   ----- ---------------------------------- 29.4/204.1 MB 3.0 MB/s eta 0:00:59\n",
      "   ----- ---------------------------------- 30.1/204.1 MB 3.0 MB/s eta 0:00:59\n",
      "   ------ --------------------------------- 30.7/204.1 MB 3.0 MB/s eta 0:00:58\n",
      "   ------ --------------------------------- 31.2/204.1 MB 3.0 MB/s eta 0:00:59\n",
      "   ------ --------------------------------- 31.7/204.1 MB 3.0 MB/s eta 0:00:58\n",
      "   ------ --------------------------------- 32.2/204.1 MB 3.0 MB/s eta 0:00:58\n",
      "   ------ --------------------------------- 33.0/204.1 MB 3.0 MB/s eta 0:00:58\n",
      "   ------ --------------------------------- 33.8/204.1 MB 3.0 MB/s eta 0:00:57\n",
      "   ------ --------------------------------- 34.3/204.1 MB 3.0 MB/s eta 0:00:57\n",
      "   ------ --------------------------------- 35.1/204.1 MB 3.0 MB/s eta 0:00:57\n",
      "   ------ --------------------------------- 35.7/204.1 MB 3.0 MB/s eta 0:00:57\n",
      "   ------- -------------------------------- 36.4/204.1 MB 3.0 MB/s eta 0:00:56\n",
      "   ------- -------------------------------- 37.0/204.1 MB 3.0 MB/s eta 0:00:56\n",
      "   ------- -------------------------------- 37.5/204.1 MB 3.0 MB/s eta 0:00:56\n",
      "   ------- -------------------------------- 38.3/204.1 MB 3.0 MB/s eta 0:00:56\n",
      "   ------- -------------------------------- 38.8/204.1 MB 3.0 MB/s eta 0:00:56\n",
      "   ------- -------------------------------- 39.6/204.1 MB 3.0 MB/s eta 0:00:55\n",
      "   ------- -------------------------------- 40.1/204.1 MB 3.0 MB/s eta 0:00:55\n",
      "   -------- ------------------------------- 40.9/204.1 MB 3.0 MB/s eta 0:00:55\n",
      "   -------- ------------------------------- 41.7/204.1 MB 3.0 MB/s eta 0:00:54\n",
      "   -------- ------------------------------- 42.2/204.1 MB 3.0 MB/s eta 0:00:54\n",
      "   -------- ------------------------------- 42.2/204.1 MB 3.0 MB/s eta 0:00:54\n",
      "   -------- ------------------------------- 42.2/204.1 MB 3.0 MB/s eta 0:00:54\n",
      "   -------- ------------------------------- 42.2/204.1 MB 3.0 MB/s eta 0:00:54\n",
      "   -------- ------------------------------- 43.3/204.1 MB 2.9 MB/s eta 0:00:56\n",
      "   -------- ------------------------------- 44.0/204.1 MB 2.9 MB/s eta 0:00:55\n",
      "   -------- ------------------------------- 44.8/204.1 MB 2.9 MB/s eta 0:00:55\n",
      "   -------- ------------------------------- 45.4/204.1 MB 2.9 MB/s eta 0:00:55\n",
      "   -------- ------------------------------- 45.9/204.1 MB 2.9 MB/s eta 0:00:54\n",
      "   --------- ------------------------------ 46.4/204.1 MB 2.9 MB/s eta 0:00:54\n",
      "   --------- ------------------------------ 47.2/204.1 MB 2.9 MB/s eta 0:00:54\n",
      "   --------- ------------------------------ 47.7/204.1 MB 2.9 MB/s eta 0:00:54\n",
      "   --------- ------------------------------ 48.2/204.1 MB 2.9 MB/s eta 0:00:53\n",
      "   --------- ------------------------------ 49.3/204.1 MB 2.9 MB/s eta 0:00:53\n",
      "   --------- ------------------------------ 49.8/204.1 MB 2.9 MB/s eta 0:00:53\n",
      "   --------- ------------------------------ 50.3/204.1 MB 3.0 MB/s eta 0:00:53\n",
      "   ---------- ----------------------------- 51.1/204.1 MB 3.0 MB/s eta 0:00:52\n",
      "   ---------- ----------------------------- 51.6/204.1 MB 3.0 MB/s eta 0:00:52\n",
      "   ---------- ----------------------------- 52.4/204.1 MB 3.0 MB/s eta 0:00:52\n",
      "   ---------- ----------------------------- 53.2/204.1 MB 3.0 MB/s eta 0:00:51\n",
      "   ---------- ----------------------------- 54.0/204.1 MB 3.0 MB/s eta 0:00:51\n",
      "   ---------- ----------------------------- 54.5/204.1 MB 3.0 MB/s eta 0:00:51\n",
      "   ---------- ----------------------------- 55.3/204.1 MB 3.0 MB/s eta 0:00:51\n",
      "   ---------- ----------------------------- 56.1/204.1 MB 3.0 MB/s eta 0:00:50\n",
      "   ----------- ---------------------------- 56.6/204.1 MB 3.0 MB/s eta 0:00:50\n",
      "   ----------- ---------------------------- 57.1/204.1 MB 3.0 MB/s eta 0:00:50\n",
      "   ----------- ---------------------------- 57.9/204.1 MB 3.0 MB/s eta 0:00:50\n",
      "   ----------- ---------------------------- 58.5/204.1 MB 3.0 MB/s eta 0:00:49\n",
      "   ----------- ---------------------------- 59.2/204.1 MB 3.0 MB/s eta 0:00:49\n",
      "   ----------- ---------------------------- 59.8/204.1 MB 3.0 MB/s eta 0:00:49\n",
      "   ----------- ---------------------------- 60.3/204.1 MB 3.0 MB/s eta 0:00:49\n",
      "   ----------- ---------------------------- 61.1/204.1 MB 3.0 MB/s eta 0:00:48\n",
      "   ------------ --------------------------- 61.6/204.1 MB 3.0 MB/s eta 0:00:48\n",
      "   ------------ --------------------------- 62.4/204.1 MB 3.0 MB/s eta 0:00:48\n",
      "   ------------ --------------------------- 62.9/204.1 MB 3.0 MB/s eta 0:00:48\n",
      "   ------------ --------------------------- 63.4/204.1 MB 3.0 MB/s eta 0:00:48\n",
      "   ------------ --------------------------- 64.2/204.1 MB 3.0 MB/s eta 0:00:47\n",
      "   ------------ --------------------------- 64.7/204.1 MB 3.0 MB/s eta 0:00:47\n",
      "   ------------ --------------------------- 65.5/204.1 MB 3.0 MB/s eta 0:00:47\n",
      "   ------------ --------------------------- 66.1/204.1 MB 3.0 MB/s eta 0:00:47\n",
      "   ------------- -------------------------- 66.8/204.1 MB 3.0 MB/s eta 0:00:46\n",
      "   ------------- -------------------------- 67.6/204.1 MB 3.0 MB/s eta 0:00:46\n",
      "   ------------- -------------------------- 68.2/204.1 MB 3.0 MB/s eta 0:00:46\n",
      "   ------------- -------------------------- 68.7/204.1 MB 3.0 MB/s eta 0:00:46\n",
      "   ------------- -------------------------- 69.2/204.1 MB 3.0 MB/s eta 0:00:46\n",
      "   ------------- -------------------------- 69.7/204.1 MB 3.0 MB/s eta 0:00:46\n",
      "   ------------- -------------------------- 70.3/204.1 MB 3.0 MB/s eta 0:00:45\n",
      "   ------------- -------------------------- 70.5/204.1 MB 3.0 MB/s eta 0:00:45\n",
      "   ------------- -------------------------- 71.0/204.1 MB 3.0 MB/s eta 0:00:45\n",
      "   -------------- ------------------------- 71.8/204.1 MB 3.0 MB/s eta 0:00:45\n",
      "   -------------- ------------------------- 72.4/204.1 MB 3.0 MB/s eta 0:00:45\n",
      "   -------------- ------------------------- 72.9/204.1 MB 3.0 MB/s eta 0:00:45\n",
      "   -------------- ------------------------- 73.4/204.1 MB 3.0 MB/s eta 0:00:45\n",
      "   -------------- ------------------------- 74.2/204.1 MB 3.0 MB/s eta 0:00:44\n",
      "   -------------- ------------------------- 75.0/204.1 MB 3.0 MB/s eta 0:00:44\n",
      "   -------------- ------------------------- 75.5/204.1 MB 3.0 MB/s eta 0:00:44\n",
      "   -------------- ------------------------- 76.3/204.1 MB 3.0 MB/s eta 0:00:44\n",
      "   --------------- ------------------------ 76.8/204.1 MB 3.0 MB/s eta 0:00:43\n",
      "   --------------- ------------------------ 77.6/204.1 MB 3.0 MB/s eta 0:00:43\n",
      "   --------------- ------------------------ 78.1/204.1 MB 3.0 MB/s eta 0:00:43\n",
      "   --------------- ------------------------ 78.6/204.1 MB 3.0 MB/s eta 0:00:43\n",
      "   --------------- ------------------------ 78.6/204.1 MB 3.0 MB/s eta 0:00:43\n",
      "   --------------- ------------------------ 78.6/204.1 MB 3.0 MB/s eta 0:00:43\n",
      "   --------------- ------------------------ 80.0/204.1 MB 3.0 MB/s eta 0:00:43\n",
      "   --------------- ------------------------ 80.7/204.1 MB 3.0 MB/s eta 0:00:42\n",
      "   --------------- ------------------------ 81.3/204.1 MB 3.0 MB/s eta 0:00:42\n",
      "   ---------------- ----------------------- 81.8/204.1 MB 3.0 MB/s eta 0:00:42\n",
      "   ---------------- ----------------------- 82.6/204.1 MB 3.0 MB/s eta 0:00:42\n",
      "   ---------------- ----------------------- 83.4/204.1 MB 3.0 MB/s eta 0:00:41\n",
      "   ---------------- ----------------------- 83.9/204.1 MB 3.0 MB/s eta 0:00:41\n",
      "   ---------------- ----------------------- 84.7/204.1 MB 3.0 MB/s eta 0:00:41\n",
      "   ---------------- ----------------------- 85.2/204.1 MB 3.0 MB/s eta 0:00:41\n",
      "   ---------------- ----------------------- 86.0/204.1 MB 3.0 MB/s eta 0:00:40\n",
      "   ---------------- ----------------------- 86.5/204.1 MB 3.0 MB/s eta 0:00:40\n",
      "   ----------------- ---------------------- 87.3/204.1 MB 3.0 MB/s eta 0:00:40\n",
      "   ----------------- ---------------------- 87.8/204.1 MB 3.0 MB/s eta 0:00:40\n",
      "   ----------------- ---------------------- 88.6/204.1 MB 3.0 MB/s eta 0:00:39\n",
      "   ----------------- ---------------------- 89.4/204.1 MB 3.0 MB/s eta 0:00:39\n",
      "   ----------------- ---------------------- 89.9/204.1 MB 3.0 MB/s eta 0:00:39\n",
      "   ----------------- ---------------------- 90.4/204.1 MB 3.0 MB/s eta 0:00:39\n",
      "   ----------------- ---------------------- 91.2/204.1 MB 3.0 MB/s eta 0:00:38\n",
      "   ----------------- ---------------------- 91.8/204.1 MB 3.0 MB/s eta 0:00:38\n",
      "   ------------------ --------------------- 92.5/204.1 MB 3.0 MB/s eta 0:00:38\n",
      "   ------------------ --------------------- 93.3/204.1 MB 3.0 MB/s eta 0:00:38\n",
      "   ------------------ --------------------- 93.8/204.1 MB 3.0 MB/s eta 0:00:37\n",
      "   ------------------ --------------------- 94.6/204.1 MB 3.0 MB/s eta 0:00:37\n",
      "   ------------------ --------------------- 95.2/204.1 MB 3.0 MB/s eta 0:00:37\n",
      "   ------------------ --------------------- 95.9/204.1 MB 3.0 MB/s eta 0:00:37\n",
      "   ------------------ --------------------- 96.5/204.1 MB 3.0 MB/s eta 0:00:37\n",
      "   ------------------- -------------------- 97.3/204.1 MB 3.0 MB/s eta 0:00:36\n",
      "   ------------------- -------------------- 98.0/204.1 MB 3.0 MB/s eta 0:00:36\n",
      "   ------------------- -------------------- 98.6/204.1 MB 3.0 MB/s eta 0:00:35\n",
      "   ------------------- -------------------- 98.6/204.1 MB 3.0 MB/s eta 0:00:35\n",
      "   ------------------- -------------------- 98.6/204.1 MB 3.0 MB/s eta 0:00:35\n",
      "   ------------------- -------------------- 99.6/204.1 MB 3.0 MB/s eta 0:00:36\n",
      "   ------------------- -------------------- 100.1/204.1 MB 3.0 MB/s eta 0:00:35\n",
      "   ------------------- -------------------- 100.9/204.1 MB 3.0 MB/s eta 0:00:35\n",
      "   ------------------- -------------------- 101.4/204.1 MB 3.0 MB/s eta 0:00:35\n",
      "   -------------------- ------------------- 102.2/204.1 MB 3.0 MB/s eta 0:00:35\n",
      "   -------------------- ------------------- 102.8/204.1 MB 3.0 MB/s eta 0:00:35\n",
      "   -------------------- ------------------- 103.5/204.1 MB 3.0 MB/s eta 0:00:34\n",
      "   -------------------- ------------------- 104.1/204.1 MB 3.0 MB/s eta 0:00:34\n",
      "   -------------------- ------------------- 104.6/204.1 MB 3.0 MB/s eta 0:00:34\n",
      "   -------------------- ------------------- 105.4/204.1 MB 3.0 MB/s eta 0:00:34\n",
      "   -------------------- ------------------- 106.2/204.1 MB 3.0 MB/s eta 0:00:33\n",
      "   -------------------- ------------------- 106.7/204.1 MB 3.0 MB/s eta 0:00:33\n",
      "   --------------------- ------------------ 107.2/204.1 MB 3.0 MB/s eta 0:00:33\n",
      "   --------------------- ------------------ 108.0/204.1 MB 3.0 MB/s eta 0:00:33\n",
      "   --------------------- ------------------ 108.5/204.1 MB 3.0 MB/s eta 0:00:33\n",
      "   --------------------- ------------------ 109.1/204.1 MB 3.0 MB/s eta 0:00:32\n",
      "   --------------------- ------------------ 109.1/204.1 MB 3.0 MB/s eta 0:00:32\n",
      "   --------------------- ------------------ 109.1/204.1 MB 3.0 MB/s eta 0:00:32\n",
      "   --------------------- ------------------ 110.1/204.1 MB 2.9 MB/s eta 0:00:33\n",
      "   --------------------- ------------------ 110.6/204.1 MB 2.9 MB/s eta 0:00:32\n",
      "   --------------------- ------------------ 111.4/204.1 MB 2.9 MB/s eta 0:00:32\n",
      "   --------------------- ------------------ 111.9/204.1 MB 2.9 MB/s eta 0:00:32\n",
      "   ---------------------- ----------------- 112.5/204.1 MB 2.9 MB/s eta 0:00:32\n",
      "   ---------------------- ----------------- 113.2/204.1 MB 2.9 MB/s eta 0:00:31\n",
      "   ---------------------- ----------------- 113.8/204.1 MB 2.9 MB/s eta 0:00:31\n",
      "   ---------------------- ----------------- 114.6/204.1 MB 3.0 MB/s eta 0:00:31\n",
      "   ---------------------- ----------------- 115.1/204.1 MB 3.0 MB/s eta 0:00:31\n",
      "   ---------------------- ----------------- 115.9/204.1 MB 3.0 MB/s eta 0:00:30\n",
      "   ---------------------- ----------------- 116.4/204.1 MB 3.0 MB/s eta 0:00:30\n",
      "   ---------------------- ----------------- 116.9/204.1 MB 3.0 MB/s eta 0:00:30\n",
      "   ----------------------- ---------------- 117.7/204.1 MB 3.0 MB/s eta 0:00:30\n",
      "   ----------------------- ---------------- 118.2/204.1 MB 3.0 MB/s eta 0:00:30\n",
      "   ----------------------- ---------------- 119.0/204.1 MB 3.0 MB/s eta 0:00:29\n",
      "   ----------------------- ---------------- 119.5/204.1 MB 3.0 MB/s eta 0:00:29\n",
      "   ----------------------- ---------------- 120.3/204.1 MB 3.0 MB/s eta 0:00:29\n",
      "   ----------------------- ---------------- 120.8/204.1 MB 3.0 MB/s eta 0:00:29\n",
      "   ----------------------- ---------------- 121.4/204.1 MB 3.0 MB/s eta 0:00:28\n",
      "   ----------------------- ---------------- 122.2/204.1 MB 3.0 MB/s eta 0:00:28\n",
      "   ----------------------- ---------------- 122.4/204.1 MB 3.0 MB/s eta 0:00:28\n",
      "   ------------------------ --------------- 123.2/204.1 MB 3.0 MB/s eta 0:00:28\n",
      "   ------------------------ --------------- 123.7/204.1 MB 3.0 MB/s eta 0:00:28\n",
      "   ------------------------ --------------- 124.5/204.1 MB 3.0 MB/s eta 0:00:27\n",
      "   ------------------------ --------------- 125.0/204.1 MB 3.0 MB/s eta 0:00:27\n",
      "   ------------------------ --------------- 125.6/204.1 MB 3.0 MB/s eta 0:00:27\n",
      "   ------------------------ --------------- 126.4/204.1 MB 3.0 MB/s eta 0:00:27\n",
      "   ------------------------ --------------- 126.9/204.1 MB 3.0 MB/s eta 0:00:27\n",
      "   ------------------------- -------------- 127.7/204.1 MB 3.0 MB/s eta 0:00:26\n",
      "   ------------------------- -------------- 127.9/204.1 MB 3.0 MB/s eta 0:00:26\n",
      "   ------------------------- -------------- 127.9/204.1 MB 3.0 MB/s eta 0:00:26\n",
      "   ------------------------- -------------- 127.9/204.1 MB 3.0 MB/s eta 0:00:26\n",
      "   ------------------------- -------------- 128.7/204.1 MB 2.9 MB/s eta 0:00:26\n",
      "   ------------------------- -------------- 129.5/204.1 MB 2.9 MB/s eta 0:00:26\n",
      "   ------------------------- -------------- 130.3/204.1 MB 3.0 MB/s eta 0:00:25\n",
      "   ------------------------- -------------- 130.8/204.1 MB 3.0 MB/s eta 0:00:25\n",
      "   ------------------------- -------------- 131.3/204.1 MB 3.0 MB/s eta 0:00:25\n",
      "   ------------------------- -------------- 132.1/204.1 MB 3.0 MB/s eta 0:00:25\n",
      "   ------------------------- -------------- 132.6/204.1 MB 3.0 MB/s eta 0:00:25\n",
      "   -------------------------- ------------- 133.4/204.1 MB 3.0 MB/s eta 0:00:24\n",
      "   -------------------------- ------------- 134.0/204.1 MB 3.0 MB/s eta 0:00:24\n",
      "   -------------------------- ------------- 134.7/204.1 MB 3.0 MB/s eta 0:00:24\n",
      "   -------------------------- ------------- 135.3/204.1 MB 3.0 MB/s eta 0:00:24\n",
      "   -------------------------- ------------- 136.1/204.1 MB 3.0 MB/s eta 0:00:23\n",
      "   -------------------------- ------------- 136.6/204.1 MB 3.0 MB/s eta 0:00:23\n",
      "   -------------------------- ------------- 137.4/204.1 MB 3.0 MB/s eta 0:00:23\n",
      "   --------------------------- ------------ 137.9/204.1 MB 3.0 MB/s eta 0:00:23\n",
      "   --------------------------- ------------ 138.7/204.1 MB 3.0 MB/s eta 0:00:23\n",
      "   --------------------------- ------------ 139.2/204.1 MB 3.0 MB/s eta 0:00:22\n",
      "   --------------------------- ------------ 140.0/204.1 MB 3.0 MB/s eta 0:00:22\n",
      "   --------------------------- ------------ 140.5/204.1 MB 3.0 MB/s eta 0:00:22\n",
      "   --------------------------- ------------ 141.3/204.1 MB 3.0 MB/s eta 0:00:22\n",
      "   --------------------------- ------------ 141.8/204.1 MB 3.0 MB/s eta 0:00:22\n",
      "   --------------------------- ------------ 141.8/204.1 MB 3.0 MB/s eta 0:00:22\n",
      "   --------------------------- ------------ 141.8/204.1 MB 3.0 MB/s eta 0:00:22\n",
      "   --------------------------- ------------ 142.6/204.1 MB 2.9 MB/s eta 0:00:22\n",
      "   ---------------------------- ----------- 143.4/204.1 MB 2.9 MB/s eta 0:00:21\n",
      "   ---------------------------- ----------- 143.9/204.1 MB 2.9 MB/s eta 0:00:21\n",
      "   ---------------------------- ----------- 144.7/204.1 MB 2.9 MB/s eta 0:00:21\n",
      "   ---------------------------- ----------- 145.2/204.1 MB 2.9 MB/s eta 0:00:21\n",
      "   ---------------------------- ----------- 146.0/204.1 MB 2.9 MB/s eta 0:00:20\n",
      "   ---------------------------- ----------- 146.5/204.1 MB 2.9 MB/s eta 0:00:20\n",
      "   ---------------------------- ----------- 147.3/204.1 MB 2.9 MB/s eta 0:00:20\n",
      "   ---------------------------- ----------- 147.8/204.1 MB 2.9 MB/s eta 0:00:20\n",
      "   ----------------------------- ---------- 148.6/204.1 MB 2.9 MB/s eta 0:00:19\n",
      "   ----------------------------- ---------- 149.2/204.1 MB 2.9 MB/s eta 0:00:19\n",
      "   ----------------------------- ---------- 149.9/204.1 MB 2.9 MB/s eta 0:00:19\n",
      "   ----------------------------- ---------- 150.5/204.1 MB 2.9 MB/s eta 0:00:19\n",
      "   ----------------------------- ---------- 151.3/204.1 MB 2.9 MB/s eta 0:00:18\n",
      "   ----------------------------- ---------- 151.8/204.1 MB 2.9 MB/s eta 0:00:18\n",
      "   ----------------------------- ---------- 152.3/204.1 MB 2.9 MB/s eta 0:00:18\n",
      "   ------------------------------ --------- 153.1/204.1 MB 2.9 MB/s eta 0:00:18\n",
      "   ------------------------------ --------- 153.9/204.1 MB 2.9 MB/s eta 0:00:18\n",
      "   ------------------------------ --------- 154.4/204.1 MB 2.9 MB/s eta 0:00:17\n",
      "   ------------------------------ --------- 155.2/204.1 MB 2.9 MB/s eta 0:00:17\n",
      "   ------------------------------ --------- 155.7/204.1 MB 2.9 MB/s eta 0:00:17\n",
      "   ------------------------------ --------- 156.5/204.1 MB 2.9 MB/s eta 0:00:17\n",
      "   ------------------------------ --------- 157.0/204.1 MB 2.9 MB/s eta 0:00:17\n",
      "   ------------------------------ --------- 157.5/204.1 MB 2.9 MB/s eta 0:00:16\n",
      "   ------------------------------- -------- 158.3/204.1 MB 2.9 MB/s eta 0:00:16\n",
      "   ------------------------------- -------- 159.1/204.1 MB 3.0 MB/s eta 0:00:16\n",
      "   ------------------------------- -------- 159.6/204.1 MB 3.0 MB/s eta 0:00:16\n",
      "   ------------------------------- -------- 159.6/204.1 MB 3.0 MB/s eta 0:00:16\n",
      "   ------------------------------- -------- 159.6/204.1 MB 3.0 MB/s eta 0:00:16\n",
      "   ------------------------------- -------- 159.6/204.1 MB 3.0 MB/s eta 0:00:16\n",
      "   ------------------------------- -------- 161.0/204.1 MB 2.9 MB/s eta 0:00:15\n",
      "   ------------------------------- -------- 161.5/204.1 MB 2.9 MB/s eta 0:00:15\n",
      "   ------------------------------- -------- 162.3/204.1 MB 2.9 MB/s eta 0:00:15\n",
      "   ------------------------------- -------- 162.8/204.1 MB 2.9 MB/s eta 0:00:15\n",
      "   -------------------------------- ------- 163.3/204.1 MB 2.9 MB/s eta 0:00:14\n",
      "   -------------------------------- ------- 164.1/204.1 MB 2.9 MB/s eta 0:00:14\n",
      "   -------------------------------- ------- 164.6/204.1 MB 2.9 MB/s eta 0:00:14\n",
      "   -------------------------------- ------- 165.4/204.1 MB 2.9 MB/s eta 0:00:14\n",
      "   -------------------------------- ------- 165.9/204.1 MB 2.9 MB/s eta 0:00:14\n",
      "   -------------------------------- ------- 166.7/204.1 MB 3.0 MB/s eta 0:00:13\n",
      "   -------------------------------- ------- 167.2/204.1 MB 3.0 MB/s eta 0:00:13\n",
      "   -------------------------------- ------- 168.0/204.1 MB 2.9 MB/s eta 0:00:13\n",
      "   --------------------------------- ------ 168.6/204.1 MB 2.9 MB/s eta 0:00:13\n",
      "   --------------------------------- ------ 169.1/204.1 MB 2.9 MB/s eta 0:00:12\n",
      "   --------------------------------- ------ 169.6/204.1 MB 2.9 MB/s eta 0:00:12\n",
      "   --------------------------------- ------ 170.1/204.1 MB 2.9 MB/s eta 0:00:12\n",
      "   --------------------------------- ------ 170.7/204.1 MB 2.9 MB/s eta 0:00:12\n",
      "   --------------------------------- ------ 171.4/204.1 MB 2.9 MB/s eta 0:00:12\n",
      "   --------------------------------- ------ 172.0/204.1 MB 2.9 MB/s eta 0:00:11\n",
      "   --------------------------------- ------ 172.8/204.1 MB 2.9 MB/s eta 0:00:11\n",
      "   --------------------------------- ------ 173.3/204.1 MB 2.9 MB/s eta 0:00:11\n",
      "   ---------------------------------- ----- 174.1/204.1 MB 2.9 MB/s eta 0:00:11\n",
      "   ---------------------------------- ----- 174.6/204.1 MB 2.9 MB/s eta 0:00:11\n",
      "   ---------------------------------- ----- 175.4/204.1 MB 2.9 MB/s eta 0:00:10\n",
      "   ---------------------------------- ----- 175.4/204.1 MB 2.9 MB/s eta 0:00:10\n",
      "   ---------------------------------- ----- 175.4/204.1 MB 2.9 MB/s eta 0:00:10\n",
      "   ---------------------------------- ----- 175.4/204.1 MB 2.9 MB/s eta 0:00:10\n",
      "   ---------------------------------- ----- 176.4/204.1 MB 2.9 MB/s eta 0:00:10\n",
      "   ---------------------------------- ----- 176.9/204.1 MB 2.9 MB/s eta 0:00:10\n",
      "   ---------------------------------- ----- 177.7/204.1 MB 2.9 MB/s eta 0:00:10\n",
      "   ---------------------------------- ----- 178.3/204.1 MB 2.9 MB/s eta 0:00:09\n",
      "   ----------------------------------- ---- 179.0/204.1 MB 2.9 MB/s eta 0:00:09\n",
      "   ----------------------------------- ---- 179.6/204.1 MB 2.9 MB/s eta 0:00:09\n",
      "   ----------------------------------- ---- 180.4/204.1 MB 2.9 MB/s eta 0:00:09\n",
      "   ----------------------------------- ---- 180.9/204.1 MB 2.9 MB/s eta 0:00:09\n",
      "   ----------------------------------- ---- 181.7/204.1 MB 2.9 MB/s eta 0:00:08\n",
      "   ----------------------------------- ---- 182.2/204.1 MB 2.9 MB/s eta 0:00:08\n",
      "   ----------------------------------- ---- 183.0/204.1 MB 2.9 MB/s eta 0:00:08\n",
      "   ----------------------------------- ---- 183.5/204.1 MB 2.9 MB/s eta 0:00:08\n",
      "   ------------------------------------ --- 184.3/204.1 MB 2.9 MB/s eta 0:00:07\n",
      "   ------------------------------------ --- 184.8/204.1 MB 2.9 MB/s eta 0:00:07\n",
      "   ------------------------------------ --- 185.6/204.1 MB 2.9 MB/s eta 0:00:07\n",
      "   ------------------------------------ --- 186.1/204.1 MB 2.9 MB/s eta 0:00:07\n",
      "   ------------------------------------ --- 186.9/204.1 MB 2.9 MB/s eta 0:00:06\n",
      "   ------------------------------------ --- 187.4/204.1 MB 2.9 MB/s eta 0:00:06\n",
      "   ------------------------------------ --- 188.0/204.1 MB 2.9 MB/s eta 0:00:06\n",
      "   ------------------------------------ --- 188.5/204.1 MB 2.9 MB/s eta 0:00:06\n",
      "   ------------------------------------- -- 189.3/204.1 MB 2.9 MB/s eta 0:00:06\n",
      "   ------------------------------------- -- 189.8/204.1 MB 2.9 MB/s eta 0:00:05\n",
      "   ------------------------------------- -- 190.3/204.1 MB 2.9 MB/s eta 0:00:05\n",
      "   ------------------------------------- -- 190.6/204.1 MB 2.9 MB/s eta 0:00:05\n",
      "   ------------------------------------- -- 190.6/204.1 MB 2.9 MB/s eta 0:00:05\n",
      "   ------------------------------------- -- 190.6/204.1 MB 2.9 MB/s eta 0:00:05\n",
      "   ------------------------------------- -- 191.6/204.1 MB 2.8 MB/s eta 0:00:05\n",
      "   ------------------------------------- -- 192.2/204.1 MB 2.8 MB/s eta 0:00:05\n",
      "   ------------------------------------- -- 192.7/204.1 MB 2.8 MB/s eta 0:00:05\n",
      "   ------------------------------------- -- 193.5/204.1 MB 2.8 MB/s eta 0:00:04\n",
      "   -------------------------------------- - 194.0/204.1 MB 2.8 MB/s eta 0:00:04\n",
      "   -------------------------------------- - 194.5/204.1 MB 2.9 MB/s eta 0:00:04\n",
      "   -------------------------------------- - 195.0/204.1 MB 2.9 MB/s eta 0:00:04\n",
      "   -------------------------------------- - 195.8/204.1 MB 2.9 MB/s eta 0:00:03\n",
      "   -------------------------------------- - 196.6/204.1 MB 2.9 MB/s eta 0:00:03\n",
      "   -------------------------------------- - 197.1/204.1 MB 2.9 MB/s eta 0:00:03\n",
      "   -------------------------------------- - 197.9/204.1 MB 2.9 MB/s eta 0:00:03\n",
      "   -------------------------------------- - 198.4/204.1 MB 2.9 MB/s eta 0:00:02\n",
      "   ---------------------------------------  199.2/204.1 MB 2.9 MB/s eta 0:00:02\n",
      "   ---------------------------------------  199.8/204.1 MB 2.9 MB/s eta 0:00:02\n",
      "   ---------------------------------------  200.3/204.1 MB 2.9 MB/s eta 0:00:02\n",
      "   ---------------------------------------  201.1/204.1 MB 2.9 MB/s eta 0:00:02\n",
      "   ---------------------------------------  201.6/204.1 MB 2.9 MB/s eta 0:00:01\n",
      "   ---------------------------------------  202.1/204.1 MB 2.9 MB/s eta 0:00:01\n",
      "   ---------------------------------------  202.9/204.1 MB 2.9 MB/s eta 0:00:01\n",
      "   ---------------------------------------  203.7/204.1 MB 2.9 MB/s eta 0:00:01\n",
      "   ---------------------------------------  203.9/204.1 MB 2.9 MB/s eta 0:00:01\n",
      "   ---------------------------------------  203.9/204.1 MB 2.9 MB/s eta 0:00:01\n",
      "   ---------------------------------------- 204.1/204.1 MB 2.9 MB/s eta 0:00:00\n",
      "Using cached sympy-1.13.1-py3-none-any.whl (6.2 MB)\n",
      "Installing collected packages: sympy, safetensors, torch, huggingface-hub, tokenizers, transformers, sentence-transformers\n",
      "  Attempting uninstall: sympy\n",
      "    Found existing installation: sympy 1.13.3\n",
      "    Uninstalling sympy-1.13.3:\n",
      "      Successfully uninstalled sympy-1.13.3\n",
      "Successfully installed huggingface-hub-0.30.2 safetensors-0.5.3 sentence-transformers-4.0.2 sympy-1.13.1 tokenizers-0.21.1 torch-2.6.0 transformers-4.51.2\n"
     ]
    }
   ],
   "source": [
    "!pip install transformers sentence-transformers"
   ]
  },
  {
   "cell_type": "code",
   "execution_count": 10,
   "id": "bd995e32",
   "metadata": {},
   "outputs": [
    {
     "data": {
      "application/vnd.jupyter.widget-view+json": {
       "model_id": "84d245ff39ff43d58958cfd2955bff1a",
       "version_major": 2,
       "version_minor": 0
      },
      "text/plain": [
       "modules.json:   0%|          | 0.00/349 [00:00<?, ?B/s]"
      ]
     },
     "metadata": {},
     "output_type": "display_data"
    },
    {
     "name": "stderr",
     "output_type": "stream",
     "text": [
      "c:\\Users\\dsta0\\anaconda3\\Lib\\site-packages\\huggingface_hub\\file_download.py:144: UserWarning: `huggingface_hub` cache-system uses symlinks by default to efficiently store duplicated files but your machine does not support them in C:\\Users\\dsta0\\.cache\\huggingface\\hub\\models--sentence-transformers--all-MiniLM-L6-v2. Caching files will still work but in a degraded version that might require more space on your disk. This warning can be disabled by setting the `HF_HUB_DISABLE_SYMLINKS_WARNING` environment variable. For more details, see https://huggingface.co/docs/huggingface_hub/how-to-cache#limitations.\n",
      "To support symlinks on Windows, you either need to activate Developer Mode or to run Python as an administrator. In order to activate developer mode, see this article: https://docs.microsoft.com/en-us/windows/apps/get-started/enable-your-device-for-development\n",
      "  warnings.warn(message)\n"
     ]
    },
    {
     "data": {
      "application/vnd.jupyter.widget-view+json": {
       "model_id": "4ee8fe9af099491c81f99f7f2bb3f731",
       "version_major": 2,
       "version_minor": 0
      },
      "text/plain": [
       "config_sentence_transformers.json:   0%|          | 0.00/116 [00:00<?, ?B/s]"
      ]
     },
     "metadata": {},
     "output_type": "display_data"
    },
    {
     "data": {
      "application/vnd.jupyter.widget-view+json": {
       "model_id": "cb01a4f348554426a22a783987396a81",
       "version_major": 2,
       "version_minor": 0
      },
      "text/plain": [
       "README.md:   0%|          | 0.00/10.5k [00:00<?, ?B/s]"
      ]
     },
     "metadata": {},
     "output_type": "display_data"
    },
    {
     "data": {
      "application/vnd.jupyter.widget-view+json": {
       "model_id": "b74d8a5980c0419ab053a496c1b58d8d",
       "version_major": 2,
       "version_minor": 0
      },
      "text/plain": [
       "sentence_bert_config.json:   0%|          | 0.00/53.0 [00:00<?, ?B/s]"
      ]
     },
     "metadata": {},
     "output_type": "display_data"
    },
    {
     "data": {
      "application/vnd.jupyter.widget-view+json": {
       "model_id": "ffc4e75ff1e84a0f91298d2f20744b9c",
       "version_major": 2,
       "version_minor": 0
      },
      "text/plain": [
       "config.json:   0%|          | 0.00/612 [00:00<?, ?B/s]"
      ]
     },
     "metadata": {},
     "output_type": "display_data"
    },
    {
     "name": "stderr",
     "output_type": "stream",
     "text": [
      "Xet Storage is enabled for this repo, but the 'hf_xet' package is not installed. Falling back to regular HTTP download. For better performance, install the package with: `pip install huggingface_hub[hf_xet]` or `pip install hf_xet`\n"
     ]
    },
    {
     "data": {
      "application/vnd.jupyter.widget-view+json": {
       "model_id": "9878dfbc933148c1994f12bdd0cbb92b",
       "version_major": 2,
       "version_minor": 0
      },
      "text/plain": [
       "model.safetensors:   0%|          | 0.00/90.9M [00:00<?, ?B/s]"
      ]
     },
     "metadata": {},
     "output_type": "display_data"
    },
    {
     "data": {
      "application/vnd.jupyter.widget-view+json": {
       "model_id": "992fddbede7149398f8380c70323207b",
       "version_major": 2,
       "version_minor": 0
      },
      "text/plain": [
       "tokenizer_config.json:   0%|          | 0.00/350 [00:00<?, ?B/s]"
      ]
     },
     "metadata": {},
     "output_type": "display_data"
    },
    {
     "data": {
      "application/vnd.jupyter.widget-view+json": {
       "model_id": "ba11c1de9b444d3f8242f2a8981fd5b3",
       "version_major": 2,
       "version_minor": 0
      },
      "text/plain": [
       "vocab.txt:   0%|          | 0.00/232k [00:00<?, ?B/s]"
      ]
     },
     "metadata": {},
     "output_type": "display_data"
    },
    {
     "data": {
      "application/vnd.jupyter.widget-view+json": {
       "model_id": "745301cfe3134351a0184efaf3b93a35",
       "version_major": 2,
       "version_minor": 0
      },
      "text/plain": [
       "tokenizer.json:   0%|          | 0.00/466k [00:00<?, ?B/s]"
      ]
     },
     "metadata": {},
     "output_type": "display_data"
    },
    {
     "data": {
      "application/vnd.jupyter.widget-view+json": {
       "model_id": "62e1c72acfe648778d6f51628e8ab1b2",
       "version_major": 2,
       "version_minor": 0
      },
      "text/plain": [
       "special_tokens_map.json:   0%|          | 0.00/112 [00:00<?, ?B/s]"
      ]
     },
     "metadata": {},
     "output_type": "display_data"
    },
    {
     "data": {
      "application/vnd.jupyter.widget-view+json": {
       "model_id": "62eaa648ddde4357addad99bbf5bc7cb",
       "version_major": 2,
       "version_minor": 0
      },
      "text/plain": [
       "config.json:   0%|          | 0.00/190 [00:00<?, ?B/s]"
      ]
     },
     "metadata": {},
     "output_type": "display_data"
    },
    {
     "data": {
      "application/vnd.jupyter.widget-view+json": {
       "model_id": "1d1afb819d8746f0b5f208a22eeb2095",
       "version_major": 2,
       "version_minor": 0
      },
      "text/plain": [
       "Batches:   0%|          | 0/50000 [00:00<?, ?it/s]"
      ]
     },
     "metadata": {},
     "output_type": "display_data"
    }
   ],
   "source": [
    "# Load a lightweight BERT-based model\n",
    "model = SentenceTransformer('all-MiniLM-L6-v2')  # Fast and great for embeddings\n",
    "\n",
    "# Ensure cleaned text is a list of strings\n",
    "texts = df_tweets_cleaned['cleaned_text'].fillna('').astype(str).tolist()\n",
    "\n",
    "# Generate embeddings\n",
    "X_bert = model.encode(texts, show_progress_bar=True)"
   ]
  },
  {
   "cell_type": "code",
   "execution_count": 11,
   "id": "23112ba3",
   "metadata": {},
   "outputs": [
    {
     "data": {
      "text/plain": [
       "array([[ 0.00735882,  0.02461563, -0.0035693 , ..., -0.07428308,\n",
       "        -0.05914465,  0.06149549],\n",
       "       [-0.04193585,  0.05599326,  0.0443898 , ...,  0.00782006,\n",
       "        -0.02131594,  0.02251407],\n",
       "       [ 0.0264208 ,  0.12049867, -0.01940557, ..., -0.039838  ,\n",
       "        -0.05383792, -0.03529075],\n",
       "       ...,\n",
       "       [-0.04804717,  0.09059407, -0.12849087, ...,  0.02023201,\n",
       "        -0.00576324, -0.05803538],\n",
       "       [ 0.03621277,  0.05019556, -0.0422086 , ...,  0.05115667,\n",
       "         0.02680762, -0.05991103],\n",
       "       [-0.02255192,  0.136173  , -0.03003125, ..., -0.01166313,\n",
       "         0.00235243,  0.02435153]], dtype=float32)"
      ]
     },
     "execution_count": 11,
     "metadata": {},
     "output_type": "execute_result"
    }
   ],
   "source": [
    "X_bert"
   ]
  },
  {
   "cell_type": "code",
   "execution_count": 12,
   "id": "90f9f0f2",
   "metadata": {},
   "outputs": [
    {
     "data": {
      "text/plain": [
       "((1120000, 384), (480000, 384), (1120000,), (480000,))"
      ]
     },
     "execution_count": 12,
     "metadata": {},
     "output_type": "execute_result"
    }
   ],
   "source": [
    "X_train_bert, X_test_bert, y_train, y_test = train_test_split(X_bert, y, test_size=0.3, random_state=123)\n",
    "\n",
    "X_train_bert.shape, X_test_bert.shape, y_train.shape, y_test.shape"
   ]
  },
  {
   "cell_type": "markdown",
   "id": "1e6b5386",
   "metadata": {},
   "source": [
    "# Classification"
   ]
  },
  {
   "cell_type": "code",
   "execution_count": 13,
   "id": "6f842428",
   "metadata": {},
   "outputs": [
    {
     "ename": "",
     "evalue": "",
     "output_type": "error",
     "traceback": [
      "\u001b[1;31mCannot execute code, session has been disposed. Please try restarting the Kernel."
     ]
    },
    {
     "ename": "",
     "evalue": "",
     "output_type": "error",
     "traceback": [
      "\u001b[1;31mCannot execute code, session has been disposed. Please try restarting the Kernel. \n",
      "\u001b[1;31mView Jupyter <a href='command:jupyter.viewOutput'>log</a> for further details."
     ]
    }
   ],
   "source": [
    "# Initialize SVM\n",
    "svm = SVC(kernel='rbf')\n",
    "\n",
    "# Train/test for each feature:\n",
    "# TF-IDF\n",
    "'''svm.fit(X_train, y_train)\n",
    "y_pred_tfidf = svm.predict(X_test)\n",
    "print(\"TF-IDF Accuracy:\", accuracy_score(y_test, y_pred_tfidf))\n",
    "\n",
    "# Word2Vec\n",
    "svm.fit(X_train_w2v, y_train)\n",
    "y_pred_w2v = svm.predict(X_test_w2v)\n",
    "print(\"Word2Vec Accuracy:\", accuracy_score(y_test, y_pred_w2v))'''\n",
    "\n",
    "# bert embedding\n",
    "svm.fit(X_train_bert, y_train)\n",
    "y_pred_gpt = svm.predict(X_test_bert)\n",
    "print(\"GPT Accuracy:\", accuracy_score(y_test, y_pred_gpt))"
   ]
  }
 ],
 "metadata": {
  "kernelspec": {
   "display_name": "base",
   "language": "python",
   "name": "python3"
  },
  "language_info": {
   "codemirror_mode": {
    "name": "ipython",
    "version": 3
   },
   "file_extension": ".py",
   "mimetype": "text/x-python",
   "name": "python",
   "nbconvert_exporter": "python",
   "pygments_lexer": "ipython3",
   "version": "3.12.7"
  }
 },
 "nbformat": 4,
 "nbformat_minor": 5
}
